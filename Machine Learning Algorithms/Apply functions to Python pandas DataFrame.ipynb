{
 "cells": [
  {
   "cell_type": "code",
   "execution_count": 2,
   "metadata": {},
   "outputs": [],
   "source": [
    "import numpy as np\n",
    "from scipy import stats\n",
    "import pandas as pd"
   ]
  },
  {
   "cell_type": "code",
   "execution_count": 5,
   "metadata": {},
   "outputs": [],
   "source": [
    "pd.set_option('display.notebook_repr_html', False)"
   ]
  },
  {
   "cell_type": "code",
   "execution_count": 7,
   "metadata": {},
   "outputs": [
    {
     "data": {
      "text/plain": [
       "   Billy beer  Lucky beer  Tripple Bock\n",
       "0       35264         233           234\n",
       "1       34245         342         45345\n",
       "2       45345         563          2435\n",
       "3        4535         656         34534\n",
       "4       45363        4345          5353"
      ]
     },
     "execution_count": 7,
     "metadata": {},
     "output_type": "execute_result"
    }
   ],
   "source": [
    "data = pd.DataFrame({'Billy beer':[35264, 34245, 45345, 4535, 45363],\n",
    "                    'Lucky beer':[233, 342, 563, 656, 4345],\n",
    "                    'Tripple Bock':[234, 45345, 2435,34534, 5353]})\n",
    "data"
   ]
  },
  {
   "cell_type": "code",
   "execution_count": 8,
   "metadata": {},
   "outputs": [
    {
     "data": {
      "text/plain": [
       "         Billy beer   Lucky beer  Tripple Bock\n",
       "count      5.000000     5.000000      5.000000\n",
       "mean   32950.400000  1227.800000  17580.200000\n",
       "std    16749.346548  1750.722622  20845.188958\n",
       "min     4535.000000   233.000000    234.000000\n",
       "25%    34245.000000   342.000000   2435.000000\n",
       "50%    35264.000000   563.000000   5353.000000\n",
       "75%    45345.000000   656.000000  34534.000000\n",
       "max    45363.000000  4345.000000  45345.000000"
      ]
     },
     "execution_count": 8,
     "metadata": {},
     "output_type": "execute_result"
    }
   ],
   "source": [
    "data.describe()"
   ]
  },
  {
   "cell_type": "code",
   "execution_count": 12,
   "metadata": {},
   "outputs": [
    {
     "data": {
      "text/plain": [
       "Index(['Billy beer', 'Lucky beer', 'Tripple Bock'], dtype='object')"
      ]
     },
     "execution_count": 12,
     "metadata": {},
     "output_type": "execute_result"
    }
   ],
   "source": [
    "data.columns"
   ]
  },
  {
   "cell_type": "code",
   "execution_count": 10,
   "metadata": {},
   "outputs": [
    {
     "data": {
      "text/plain": [
       "RangeIndex(start=0, stop=5, step=1)"
      ]
     },
     "execution_count": 10,
     "metadata": {},
     "output_type": "execute_result"
    }
   ],
   "source": [
    "data.index"
   ]
  },
  {
   "cell_type": "code",
   "execution_count": 11,
   "metadata": {},
   "outputs": [
    {
     "data": {
      "text/plain": [
       "Billy beer      32950.4\n",
       "Lucky beer       1227.8\n",
       "Tripple Bock    17580.2\n",
       "dtype: float64"
      ]
     },
     "execution_count": 11,
     "metadata": {},
     "output_type": "execute_result"
    }
   ],
   "source": [
    "data.mean()"
   ]
  },
  {
   "cell_type": "code",
   "execution_count": 13,
   "metadata": {},
   "outputs": [
    {
     "data": {
      "text/plain": [
       "Billy beer      16749.346548\n",
       "Lucky beer       1750.722622\n",
       "Tripple Bock    20845.188958\n",
       "dtype: float64"
      ]
     },
     "execution_count": 13,
     "metadata": {},
     "output_type": "execute_result"
    }
   ],
   "source": [
    "data.std()"
   ]
  },
  {
   "cell_type": "code",
   "execution_count": 15,
   "metadata": {},
   "outputs": [
    {
     "data": {
      "text/plain": [
       "Billy beer      45345.0\n",
       "Lucky beer        656.0\n",
       "Tripple Bock    34534.0\n",
       "Name: 0.75, dtype: float64"
      ]
     },
     "execution_count": 15,
     "metadata": {},
     "output_type": "execute_result"
    }
   ],
   "source": [
    "data.quantile(q= 0.75)"
   ]
  },
  {
   "cell_type": "code",
   "execution_count": 17,
   "metadata": {},
   "outputs": [
    {
     "data": {
      "text/plain": [
       "Billy beer      14981.070984\n",
       "Lucky beer       1565.893917\n",
       "Tripple Bock    18644.503806\n",
       "dtype: float64"
      ]
     },
     "execution_count": 17,
     "metadata": {},
     "output_type": "execute_result"
    }
   ],
   "source": [
    "data.std(ddof = 0)"
   ]
  },
  {
   "cell_type": "code",
   "execution_count": 18,
   "metadata": {},
   "outputs": [
    {
     "data": {
      "text/plain": [
       "Billy beer      32950.4\n",
       "Lucky beer       1227.8\n",
       "Tripple Bock    17580.2\n",
       "dtype: float64"
      ]
     },
     "execution_count": 18,
     "metadata": {},
     "output_type": "execute_result"
    }
   ],
   "source": [
    "data.apply(np.mean)"
   ]
  },
  {
   "cell_type": "code",
   "execution_count": 19,
   "metadata": {},
   "outputs": [
    {
     "data": {
      "text/plain": [
       "Billy beer      32950.4\n",
       "Lucky beer       1227.8\n",
       "Tripple Bock    17580.2\n",
       "dtype: float64"
      ]
     },
     "execution_count": 19,
     "metadata": {},
     "output_type": "execute_result"
    }
   ],
   "source": [
    "np.mean(data)"
   ]
  },
  {
   "cell_type": "code",
   "execution_count": 20,
   "metadata": {},
   "outputs": [
    {
     "data": {
      "text/plain": [
       "   Billy beer  Lucky beer  Tripple Bock\n",
       "0    0.138131   -0.568223     -0.832144\n",
       "1    0.077293   -0.505963      1.331952\n",
       "2    0.740005   -0.379729     -0.726556\n",
       "3   -1.696508   -0.326608      0.813320\n",
       "4    0.741080    1.780522     -0.586572"
      ]
     },
     "execution_count": 20,
     "metadata": {},
     "output_type": "execute_result"
    }
   ],
   "source": [
    "def zscore(series):\n",
    "    result = (series - series.mean())/series.std()\n",
    "    return result\n",
    "\n",
    "data.apply(zscore)"
   ]
  },
  {
   "cell_type": "code",
   "execution_count": 21,
   "metadata": {},
   "outputs": [
    {
     "data": {
      "text/plain": [
       "array([[ 0.13813076, -0.56822251, -0.83214405],\n",
       "       [ 0.07729257, -0.5059625 ,  1.33195243],\n",
       "       [ 0.74000499, -0.37972891, -0.72655614],\n",
       "       [-1.69650798, -0.32660799,  0.81331956],\n",
       "       [ 0.74107966,  1.78052192, -0.5865718 ]])"
      ]
     },
     "execution_count": 21,
     "metadata": {},
     "output_type": "execute_result"
    }
   ],
   "source": [
    "stats.zscore(data, ddof = 1)"
   ]
  },
  {
   "cell_type": "code",
   "execution_count": 22,
   "metadata": {},
   "outputs": [
    {
     "data": {
      "text/plain": [
       "Billy beer      11100.0\n",
       "Lucky beer        314.0\n",
       "Tripple Bock    32099.0\n",
       "dtype: float64"
      ]
     },
     "execution_count": 22,
     "metadata": {},
     "output_type": "execute_result"
    }
   ],
   "source": [
    "data.apply(lambda x: x.quantile(q=.75) - x.quantile(q= .25))"
   ]
  },
  {
   "cell_type": "code",
   "execution_count": null,
   "metadata": {},
   "outputs": [],
   "source": []
  }
 ],
 "metadata": {
  "kernelspec": {
   "display_name": "Python 3",
   "language": "python",
   "name": "python3"
  },
  "language_info": {
   "codemirror_mode": {
    "name": "ipython",
    "version": 3
   },
   "file_extension": ".py",
   "mimetype": "text/x-python",
   "name": "python",
   "nbconvert_exporter": "python",
   "pygments_lexer": "ipython3",
   "version": "3.7.4"
  }
 },
 "nbformat": 4,
 "nbformat_minor": 2
}

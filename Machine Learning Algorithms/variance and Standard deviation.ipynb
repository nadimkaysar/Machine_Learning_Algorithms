{
 "cells": [
  {
   "cell_type": "code",
   "execution_count": 2,
   "metadata": {},
   "outputs": [],
   "source": [
    "%matplotlib inline\n",
    "import matplotlib.pyplot as plt\n",
    "import numpy as np\n",
    "import pandas as pd"
   ]
  },
  {
   "cell_type": "code",
   "execution_count": 3,
   "metadata": {},
   "outputs": [],
   "source": [
    "pd.set_option('display.notebook_repr_html', False)"
   ]
  },
  {
   "cell_type": "code",
   "execution_count": 12,
   "metadata": {},
   "outputs": [
    {
     "name": "stdout",
     "output_type": "stream",
     "text": [
      "   Salaries\n",
      "0    321343\n",
      "1    324113\n",
      "2    437123\n",
      "3    563232\n",
      "4    452345\n",
      "5    223342\n",
      "6    452345\n"
     ]
    }
   ],
   "source": [
    "data = pd.DataFrame({'Salaries':[ 321343, 324113, 437123,\n",
    "                    563232, 452345,223342, 452345]})\n",
    "print(data)"
   ]
  },
  {
   "cell_type": "code",
   "execution_count": 14,
   "metadata": {},
   "outputs": [
    {
     "data": {
      "image/png": "[encoded data removed]",
      "text/plain": [
       "<Figure size 432x288 with 1 Axes>"
      ]
     },
     "metadata": {
      "needs_background": "light"
     },
     "output_type": "display_data"
    }
   ],
   "source": [
    "data.plot(kind = 'bar', color = 'b', alpha = 0.6)\n",
    "plt.show()"
   ]
  },
  {
   "cell_type": "code",
   "execution_count": 15,
   "metadata": {},
   "outputs": [],
   "source": [
    "n = len(data.Salaries)"
   ]
  },
  {
   "cell_type": "code",
   "execution_count": 17,
   "metadata": {},
   "outputs": [
    {
     "data": {
      "text/plain": [
       "10936981307.061224"
      ]
     },
     "execution_count": 17,
     "metadata": {},
     "output_type": "execute_result"
    }
   ],
   "source": [
    "mean = data.Salaries.mean()\n",
    "\n",
    "squared_deviation = 0\n",
    "\n",
    "for v in data.Salaries:\n",
    "    squared_deviation += (v - mean)**2\n",
    "    \n",
    "    \n",
    "population_variance = squared_deviation/n\n",
    "population_variance\n",
    "\n"
   ]
  },
  {
   "cell_type": "code",
   "execution_count": 19,
   "metadata": {},
   "outputs": [
    {
     "data": {
      "text/plain": [
       "12759811524.904762"
      ]
     },
     "execution_count": 19,
     "metadata": {},
     "output_type": "execute_result"
    }
   ],
   "source": [
    "degree_freedom = n - 1\n",
    "sample_variance = squared_deviation/degree_freedom\n",
    "sample_variance"
   ]
  },
  {
   "cell_type": "code",
   "execution_count": 20,
   "metadata": {},
   "outputs": [
    {
     "name": "stdout",
     "output_type": "stream",
     "text": [
      "10936981307.061224 12759811524.904762\n"
     ]
    }
   ],
   "source": [
    "population_variance = data.Salaries.var(ddof = 0)\n",
    "sample_variance = data.Salaries.var()\n",
    "print(population_variance, sample_variance)"
   ]
  },
  {
   "cell_type": "code",
   "execution_count": 21,
   "metadata": {},
   "outputs": [
    {
     "name": "stdout",
     "output_type": "stream",
     "text": [
      "10936981307.061224 12759811524.904762\n"
     ]
    }
   ],
   "source": [
    "population_variance = np.var(data.Salaries)\n",
    "sample_variance = np.var(data.Salaries, ddof = 1)\n",
    "print(population_variance, sample_variance)"
   ]
  },
  {
   "cell_type": "code",
   "execution_count": 23,
   "metadata": {},
   "outputs": [],
   "source": [
    "import math"
   ]
  },
  {
   "cell_type": "code",
   "execution_count": 24,
   "metadata": {},
   "outputs": [
    {
     "data": {
      "text/plain": [
       "104580.02346079878"
      ]
     },
     "execution_count": 24,
     "metadata": {},
     "output_type": "execute_result"
    }
   ],
   "source": [
    "\n",
    "n = len(data.Salaries)\n",
    "mean = np.mean(data.Salaries)\n",
    "\n",
    "squared_deviations = 0\n",
    "for v in data.Salaries:\n",
    "    squared_deviations+=(v - mean)**2\n",
    "    \n",
    "population_variance = squared_deviations/n\n",
    "population_standard_deviation = math.sqrt(population_variance)\n",
    "population_standard_deviation"
   ]
  },
  {
   "cell_type": "code",
   "execution_count": 25,
   "metadata": {},
   "outputs": [
    {
     "data": {
      "text/plain": [
       "112959.33571380793"
      ]
     },
     "execution_count": 25,
     "metadata": {},
     "output_type": "execute_result"
    }
   ],
   "source": [
    "degree_freedom = n - 1\n",
    "sample_variance = squared_deviations/degree_freedom\n",
    "\n",
    "sample_standard_deviation = math.sqrt(sample_variance)\n",
    "sample_standard_deviation"
   ]
  },
  {
   "cell_type": "code",
   "execution_count": 26,
   "metadata": {},
   "outputs": [
    {
     "name": "stdout",
     "output_type": "stream",
     "text": [
      "104580.02346079878 112959.33571380793\n"
     ]
    }
   ],
   "source": [
    "population_standard_deviation = np.std(data.Salaries)\n",
    "sample_standard_deviation = np.std(data.Salaries, ddof=1)\n",
    "print(population_standard_deviation, sample_standard_deviation)"
   ]
  },
  {
   "cell_type": "code",
   "execution_count": 27,
   "metadata": {},
   "outputs": [
    {
     "name": "stdout",
     "output_type": "stream",
     "text": [
      "104580.02346079878 112959.33571380793\n"
     ]
    }
   ],
   "source": [
    "population_standard_deviation = data.Salaries.std(ddof = 0)\n",
    "sample_standard_deviation  = data.Salaries.std(ddof = 1)\n",
    "print(population_standard_deviation, sample_standard_deviation)"
   ]
  },
  {
   "cell_type": "code",
   "execution_count": null,
   "metadata": {},
   "outputs": [],
   "source": []
  }
 ],
 "metadata": {
  "kernelspec": {
   "display_name": "Python 3",
   "language": "python",
   "name": "python3"
  },
  "language_info": {
   "codemirror_mode": {
    "name": "ipython",
    "version": 3
   },
   "file_extension": ".py",
   "mimetype": "text/x-python",
   "name": "python",
   "nbconvert_exporter": "python",
   "pygments_lexer": "ipython3",
   "version": "3.7.4"
  }
 },
 "nbformat": 4,
 "nbformat_minor": 2
}

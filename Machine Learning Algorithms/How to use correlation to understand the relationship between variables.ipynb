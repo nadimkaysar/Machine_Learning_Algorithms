{
 "cells": [
  {
   "cell_type": "code",
   "execution_count": 16,
   "metadata": {},
   "outputs": [],
   "source": [
    "from numpy import mean, std\n",
    "from numpy.random import randn, seed\n",
    "import matplotlib.pyplot as plt\n",
    "from numpy import cov\n",
    "from scipy.stats import pearsonr\n",
    "from scipy.stats import spearmanr\n",
    "import pandas as pd"
   ]
  },
  {
   "cell_type": "code",
   "execution_count": 5,
   "metadata": {},
   "outputs": [
    {
     "name": "stdout",
     "output_type": "stream",
     "text": [
      "data1 : mean=100.776, std=19.620\n",
      "data2 : mean=151.050, std=22.358\n"
     ]
    },
    {
     "data": {
      "image/png": "[encoded data removed]",
      "text/plain": [
       "<Figure size 432x288 with 1 Axes>"
      ]
     },
     "metadata": {
      "needs_background": "light"
     },
     "output_type": "display_data"
    }
   ],
   "source": [
    "seed(1)\n",
    "data1 = 20 *randn(1000) + 100  # standard_deviation * randn(sample size) + mean\n",
    "data2 = data1 + (10 *randn(1000) + 50)\n",
    "\n",
    "print('data1 : mean=%.3f, std=%.3f'%(mean(data1),std(data1)))\n",
    "print('data2 : mean=%.3f, std=%.3f'%(mean(data2), std(data2)))\n",
    "plt.scatter(data1, data2)\n",
    "plt.grid(True)\n",
    "plt.show()"
   ]
  },
  {
   "cell_type": "code",
   "execution_count": 9,
   "metadata": {},
   "outputs": [
    {
     "name": "stdout",
     "output_type": "stream",
     "text": [
      "Covariance : \n",
      " [[385.33297729 389.7545618 ]\n",
      " [389.7545618  500.38006058]]\n"
     ]
    }
   ],
   "source": [
    "covariance = cov(data1, data2)\n",
    "print('Covariance : \\n', covariance)"
   ]
  },
  {
   "cell_type": "code",
   "execution_count": 10,
   "metadata": {},
   "outputs": [
    {
     "name": "stdout",
     "output_type": "stream",
     "text": [
      "[[0.87842078 0.88850041]\n",
      " [0.88850041 1.14068681]]\n"
     ]
    }
   ],
   "source": [
    "Pearson_correlations_cofficient = cov(data1, data2)/(std(data1)*std(data2))\n",
    "print(Pearson_correlations_cofficient)"
   ]
  },
  {
   "cell_type": "code",
   "execution_count": 14,
   "metadata": {},
   "outputs": [
    {
     "name": "stdout",
     "output_type": "stream",
     "text": [
      "Pearson_correlation : 0.888\n"
     ]
    }
   ],
   "source": [
    "corr, _ = pearsonr(data1, data2)\n",
    "print('Pearson_correlation : %.3f'%corr)"
   ]
  },
  {
   "cell_type": "code",
   "execution_count": 19,
   "metadata": {},
   "outputs": [
    {
     "name": "stdout",
     "output_type": "stream",
     "text": [
      "spearmans correlations : 0.872\n"
     ]
    }
   ],
   "source": [
    "corr, _ = spearmanr(data1, data2)\n",
    "print('spearmans correlations : %.3f'%corr)"
   ]
  },
  {
   "cell_type": "code",
   "execution_count": null,
   "metadata": {},
   "outputs": [],
   "source": []
  }
 ],
 "metadata": {
  "kernelspec": {
   "display_name": "Python 3",
   "language": "python",
   "name": "python3"
  },
  "language_info": {
   "codemirror_mode": {
    "name": "ipython",
    "version": 3
   },
   "file_extension": ".py",
   "mimetype": "text/x-python",
   "name": "python",
   "nbconvert_exporter": "python",
   "pygments_lexer": "ipython3",
   "version": "3.7.4"
  }
 },
 "nbformat": 4,
 "nbformat_minor": 2
}

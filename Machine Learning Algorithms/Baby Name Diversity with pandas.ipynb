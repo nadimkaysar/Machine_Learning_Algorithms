{
 "cells": [
  {
   "cell_type": "code",
   "execution_count": 1,
   "metadata": {},
   "outputs": [],
   "source": [
    "import matplotlib.pyplot as plt\n",
    "import pandas as pd\n",
    "import numpy as np\n",
    "%matplotlib inline"
   ]
  },
  {
   "cell_type": "code",
   "execution_count": 3,
   "metadata": {},
   "outputs": [],
   "source": [
    "pd.set_option('display.notebook_repr_html', False)"
   ]
  },
  {
   "cell_type": "code",
   "execution_count": 4,
   "metadata": {},
   "outputs": [],
   "source": [
    "names = pd.read_csv('NoteBooks-Statistics-and-MachineLearning-master/data/baby-names2.csv')"
   ]
  },
  {
   "cell_type": "code",
   "execution_count": 5,
   "metadata": {},
   "outputs": [
    {
     "data": {
      "text/plain": [
       "   year     name      prop  sex soundex\n",
       "0  1880     John  0.081541  boy    J500\n",
       "1  1880  William  0.080511  boy    W450\n",
       "2  1880    James  0.050057  boy    J520\n",
       "3  1880  Charles  0.045167  boy    C642\n",
       "4  1880   George  0.043292  boy    G620"
      ]
     },
     "execution_count": 5,
     "metadata": {},
     "output_type": "execute_result"
    }
   ],
   "source": [
    "names.head()"
   ]
  },
  {
   "cell_type": "code",
   "execution_count": 6,
   "metadata": {},
   "outputs": [
    {
     "data": {
      "text/plain": [
       "        year      name      prop   sex soundex\n",
       "257995  2008  Carleigh  0.000128  girl    C642\n",
       "257996  2008     Iyana  0.000128  girl    I500\n",
       "257997  2008    Kenley  0.000127  girl    K540\n",
       "257998  2008    Sloane  0.000127  girl    S450\n",
       "257999  2008   Elianna  0.000127  girl    E450"
      ]
     },
     "execution_count": 6,
     "metadata": {},
     "output_type": "execute_result"
    }
   ],
   "source": [
    "names.tail()"
   ]
  },
  {
   "cell_type": "code",
   "execution_count": 9,
   "metadata": {},
   "outputs": [
    {
     "data": {
      "text/plain": [
       "boy     129000\n",
       "girl    129000\n",
       "Name: sex, dtype: int64"
      ]
     },
     "execution_count": 9,
     "metadata": {},
     "output_type": "execute_result"
    }
   ],
   "source": [
    "names.sex.value_counts()"
   ]
  },
  {
   "cell_type": "code",
   "execution_count": 10,
   "metadata": {},
   "outputs": [
    {
     "data": {
      "text/plain": [
       "258000"
      ]
     },
     "execution_count": 10,
     "metadata": {},
     "output_type": "execute_result"
    }
   ],
   "source": [
    "len(names)"
   ]
  },
  {
   "cell_type": "code",
   "execution_count": 11,
   "metadata": {},
   "outputs": [
    {
     "data": {
      "text/plain": [
       "1919    2000\n",
       "1983    2000\n",
       "1953    2000\n",
       "1954    2000\n",
       "1955    2000\n",
       "        ... \n",
       "1881    2000\n",
       "1882    2000\n",
       "1883    2000\n",
       "1884    2000\n",
       "1920    2000\n",
       "Name: year, Length: 129, dtype: int64"
      ]
     },
     "execution_count": 11,
     "metadata": {},
     "output_type": "execute_result"
    }
   ],
   "source": [
    "names.year.value_counts()"
   ]
  },
  {
   "cell_type": "code",
   "execution_count": 12,
   "metadata": {},
   "outputs": [
    {
     "data": {
      "text/plain": [
       "        year         name      prop  sex soundex\n",
       "116000  1996      Michael  0.019156  boy    M240\n",
       "116001  1996      Matthew  0.016019  boy    M300\n",
       "116002  1996        Jacob  0.015928  boy    J210\n",
       "116003  1996  Christopher  0.015495  boy    C623\n",
       "116004  1996       Joshua  0.014565  boy    J200"
      ]
     },
     "execution_count": 12,
     "metadata": {},
     "output_type": "execute_result"
    }
   ],
   "source": [
    "names[names.year == 1996].head()"
   ]
  },
  {
   "cell_type": "code",
   "execution_count": 14,
   "metadata": {},
   "outputs": [
    {
     "data": {
      "text/plain": [
       "        year       name      prop   sex soundex\n",
       "245995  1996      Leann  0.000099  girl    L500\n",
       "245996  1996      Luisa  0.000099  girl    L200\n",
       "245997  1996   Griselda  0.000098  girl    G624\n",
       "245998  1996      Jaden  0.000098  girl    J350\n",
       "245999  1996  Kimberlee  0.000098  girl    K516"
      ]
     },
     "execution_count": 14,
     "metadata": {},
     "output_type": "execute_result"
    }
   ],
   "source": [
    "names[names.year == 1996].tail()"
   ]
  },
  {
   "cell_type": "code",
   "execution_count": 16,
   "metadata": {},
   "outputs": [],
   "source": [
    "Boys_information = names[names.sex == 'boy']\n",
    "Girls_information = names[names.sex == 'girl']"
   ]
  },
  {
   "cell_type": "code",
   "execution_count": 17,
   "metadata": {},
   "outputs": [
    {
     "data": {
      "text/plain": [
       "   year     name      prop  sex soundex\n",
       "0  1880     John  0.081541  boy    J500\n",
       "1  1880  William  0.080511  boy    W450\n",
       "2  1880    James  0.050057  boy    J520\n",
       "3  1880  Charles  0.045167  boy    C642\n",
       "4  1880   George  0.043292  boy    G620"
      ]
     },
     "execution_count": 17,
     "metadata": {},
     "output_type": "execute_result"
    }
   ],
   "source": [
    "Boys_information.head()"
   ]
  },
  {
   "cell_type": "code",
   "execution_count": 18,
   "metadata": {},
   "outputs": [
    {
     "data": {
      "text/plain": [
       "        year       name      prop   sex soundex\n",
       "129000  1880       Mary  0.072381  girl    M600\n",
       "129001  1880       Anna  0.026678  girl    A500\n",
       "129002  1880       Emma  0.020521  girl    E500\n",
       "129003  1880  Elizabeth  0.019865  girl    E421\n",
       "129004  1880     Minnie  0.017888  girl    M500"
      ]
     },
     "execution_count": 18,
     "metadata": {},
     "output_type": "execute_result"
    }
   ],
   "source": [
    "Girls_information.head()"
   ]
  },
  {
   "cell_type": "code",
   "execution_count": 19,
   "metadata": {},
   "outputs": [
    {
     "data": {
      "text/plain": [
       "year\n",
       "1880    1000\n",
       "1881    1000\n",
       "1882    1000\n",
       "1883    1000\n",
       "1884    1000\n",
       "dtype: int64"
      ]
     },
     "execution_count": 19,
     "metadata": {},
     "output_type": "execute_result"
    }
   ],
   "source": [
    "Boys_information.groupby('year').size().head()"
   ]
  },
  {
   "cell_type": "code",
   "execution_count": 20,
   "metadata": {},
   "outputs": [
    {
     "data": {
      "text/plain": [
       "year\n",
       "1880    1000\n",
       "1881    1000\n",
       "1882    1000\n",
       "1883    1000\n",
       "1884    1000\n",
       "dtype: int64"
      ]
     },
     "execution_count": 20,
     "metadata": {},
     "output_type": "execute_result"
    }
   ],
   "source": [
    "Girls_information.groupby('year').size().head()"
   ]
  },
  {
   "cell_type": "code",
   "execution_count": 24,
   "metadata": {},
   "outputs": [
    {
     "data": {
      "text/plain": [
       "year           1996\n",
       "name        Michael\n",
       "prop       0.019156\n",
       "sex             boy\n",
       "soundex        M240\n",
       "Name: 116000, dtype: object"
      ]
     },
     "execution_count": 24,
     "metadata": {},
     "output_type": "execute_result"
    }
   ],
   "source": [
    "row_id = Boys_information[Boys_information.year == 1996].prop.idxmax()\n",
    "Boys_information.iloc[row_id]"
   ]
  },
  {
   "cell_type": "code",
   "execution_count": 32,
   "metadata": {},
   "outputs": [
    {
     "data": {
      "text/plain": [
       "        year      name      prop   sex soundex\n",
       "221000  1972  Jennifer  0.039447  girl    J516\n",
       "221001  1972  Michelle  0.018157  girl    M240\n",
       "221002  1972      Lisa  0.017086  girl    L200\n",
       "221003  1972  Kimberly  0.016310  girl    K516\n",
       "221004  1972       Amy  0.016042  girl    A500"
      ]
     },
     "execution_count": 32,
     "metadata": {},
     "output_type": "execute_result"
    }
   ],
   "source": [
    "Girls_data_1972 = Girls_information[Girls_information.year == 1972]\n",
    "Girls_data_1972_sorted = Girls_data_1972.sort_values(by = 'prop', ascending = False)\n",
    "Girls_data_1972_sorted.head()"
   ]
  },
  {
   "cell_type": "code",
   "execution_count": 33,
   "metadata": {},
   "outputs": [
    {
     "data": {
      "text/plain": [
       "0.8437470000000009"
      ]
     },
     "execution_count": 33,
     "metadata": {},
     "output_type": "execute_result"
    }
   ],
   "source": [
    "Girls_data_1972_sorted.prop.cumsum().max()"
   ]
  },
  {
   "cell_type": "code",
   "execution_count": 34,
   "metadata": {},
   "outputs": [],
   "source": [
    "Girls_data_cumsum = Girls_data_1972_sorted.prop.cumsum()\n",
    "\n",
    "crossover = Girls_data_cumsum.searchsorted(.5)\n",
    "Girls_data_cumsum[(crossover[0] - 2):crossover[0] + 3]"
   ]
  }
 ],
 "metadata": {
  "kernelspec": {
   "display_name": "Python 3",
   "language": "python",
   "name": "python3"
  },
  "language_info": {
   "codemirror_mode": {
    "name": "ipython",
    "version": 3
   },
   "file_extension": ".py",
   "mimetype": "text/x-python",
   "name": "python",
   "nbconvert_exporter": "python",
   "pygments_lexer": "ipython3",
   "version": "3.7.4"
  }
 },
 "nbformat": 4,
 "nbformat_minor": 2
}

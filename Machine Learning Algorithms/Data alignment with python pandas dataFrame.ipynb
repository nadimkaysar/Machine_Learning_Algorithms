{
 "cells": [
  {
   "cell_type": "code",
   "execution_count": 1,
   "metadata": {},
   "outputs": [],
   "source": [
    "import pandas as pd\n",
    "import numpy as np "
   ]
  },
  {
   "cell_type": "code",
   "execution_count": 2,
   "metadata": {},
   "outputs": [],
   "source": [
    "pd.set_option('display.notebook_repr_html',False)"
   ]
  },
  {
   "cell_type": "code",
   "execution_count": 3,
   "metadata": {},
   "outputs": [],
   "source": [
    "def side_by_side(*objs, **kwr):\n",
    "    from pandas.io.formats.printing import adjoin\n",
    "    space = kwr.get('space', 4)\n",
    "    reprs = [repr(obj).split('\\n') for obj in objs]\n",
    "    print(adjoin(space, *reprs))"
   ]
  },
  {
   "cell_type": "markdown",
   "metadata": {},
   "source": [
    "### Reader from csv"
   ]
  },
  {
   "cell_type": "code",
   "execution_count": 4,
   "metadata": {},
   "outputs": [],
   "source": [
    "data_frame = pd.read_csv('../prectices/NoteBooks-Statistics-and-MachineLearning-master/data/stock_data.csv', index_col = 0, parse_dates = True)"
   ]
  },
  {
   "cell_type": "code",
   "execution_count": 5,
   "metadata": {},
   "outputs": [
    {
     "data": {
      "text/plain": [
       "               AA    AAPL     GE     IBM    JNJ   MSFT    PEP      SPX    XOM\n",
       "2007-10-29  37.41  185.09  34.46  106.78  57.13  31.78  65.67  1540.98  85.51\n",
       "2007-10-30  36.43  187.00  34.39  106.15  56.99  32.70  65.80  1531.02  83.25\n",
       "2007-10-31  36.79  189.95  34.97  108.01  57.30  33.84  65.69  1549.38  84.03\n",
       "2007-11-01  35.22  187.44  34.27  105.72  56.85  34.07  64.51  1508.44  80.84\n",
       "2007-11-02  35.83  187.87  34.27  106.59  56.95  34.07  65.03  1509.65  80.32"
      ]
     },
     "execution_count": 5,
     "metadata": {},
     "output_type": "execute_result"
    }
   ],
   "source": [
    "data_frame.head()"
   ]
  },
  {
   "cell_type": "code",
   "execution_count": 6,
   "metadata": {},
   "outputs": [
    {
     "data": {
      "text/plain": [
       "               AA    AAPL     GE     IBM    JNJ   MSFT    PEP      SPX    XOM\n",
       "2011-10-10  10.09  388.81  16.14  186.62  64.43  26.94  61.87  1194.89  76.28\n",
       "2011-10-11  10.30  400.29  16.14  185.00  63.96  27.00  60.95  1195.54  76.27\n",
       "2011-10-12  10.05  402.19  16.40  186.12  64.33  26.96  62.70  1207.25  77.16\n",
       "2011-10-13  10.10  408.43  16.22  186.82  64.23  27.18  62.36  1203.66  76.37\n",
       "2011-10-14  10.26  422.00  16.60  190.53  64.72  27.27  62.24  1224.58  78.11"
      ]
     },
     "execution_count": 6,
     "metadata": {},
     "output_type": "execute_result"
    }
   ],
   "source": [
    "data_frame.tail()"
   ]
  },
  {
   "cell_type": "code",
   "execution_count": 7,
   "metadata": {},
   "outputs": [],
   "source": [
    "data = data_frame"
   ]
  },
  {
   "cell_type": "code",
   "execution_count": 8,
   "metadata": {},
   "outputs": [
    {
     "data": {
      "text/plain": [
       "               AA    AAPL     GE     IBM    JNJ   MSFT    PEP      SPX    XOM\n",
       "2011-10-10  10.09  388.81  16.14  186.62  64.43  26.94  61.87  1194.89  76.28\n",
       "2011-10-11  10.30  400.29  16.14  185.00  63.96  27.00  60.95  1195.54  76.27\n",
       "2011-10-12  10.05  402.19  16.40  186.12  64.33  26.96  62.70  1207.25  77.16\n",
       "2011-10-13  10.10  408.43  16.22  186.82  64.23  27.18  62.36  1203.66  76.37\n",
       "2011-10-14  10.26  422.00  16.60  190.53  64.72  27.27  62.24  1224.58  78.11"
      ]
     },
     "execution_count": 8,
     "metadata": {},
     "output_type": "execute_result"
    }
   ],
   "source": [
    "data.tail()"
   ]
  },
  {
   "cell_type": "code",
   "execution_count": 9,
   "metadata": {},
   "outputs": [
    {
     "data": {
      "text/plain": [
       "Index(['AA', 'AAPL', 'GE', 'IBM', 'JNJ', 'MSFT', 'PEP', 'SPX', 'XOM'], dtype='object')"
      ]
     },
     "execution_count": 9,
     "metadata": {},
     "output_type": "execute_result"
    }
   ],
   "source": [
    "data.columns"
   ]
  },
  {
   "cell_type": "code",
   "execution_count": 10,
   "metadata": {},
   "outputs": [
    {
     "data": {
      "text/plain": [
       "DatetimeIndex(['2007-10-29', '2007-10-30', '2007-10-31', '2007-11-01',\n",
       "               '2007-11-02', '2007-11-05', '2007-11-06', '2007-11-07',\n",
       "               '2007-11-08', '2007-11-09',\n",
       "               ...\n",
       "               '2011-10-03', '2011-10-04', '2011-10-05', '2011-10-06',\n",
       "               '2011-10-07', '2011-10-10', '2011-10-11', '2011-10-12',\n",
       "               '2011-10-13', '2011-10-14'],\n",
       "              dtype='datetime64[ns]', length=1000, freq=None)"
      ]
     },
     "execution_count": 10,
     "metadata": {},
     "output_type": "execute_result"
    }
   ],
   "source": [
    "data.index"
   ]
  },
  {
   "cell_type": "code",
   "execution_count": 11,
   "metadata": {
    "scrolled": true
   },
   "outputs": [
    {
     "data": {
      "text/plain": [
       "                AA         AAPL           GE          IBM          JNJ  \\\n",
       "count  1000.000000  1000.000000  1000.000000  1000.000000  1000.000000   \n",
       "mean     17.138190   217.386950    18.362250   122.687010    58.228900   \n",
       "std       9.108915    90.627523     6.168905    26.797665     4.515169   \n",
       "min       5.100000    78.200000     6.190000    68.140000    42.760000   \n",
       "25%      11.027500   142.965000    14.690000   102.200000    55.867500   \n",
       "50%      13.470000   193.970000    16.085000   120.340000    58.960000   \n",
       "75%      17.427500   302.777500    20.282500   137.597500    61.110000   \n",
       "max      41.860000   422.000000    34.970000   190.530000    67.320000   \n",
       "\n",
       "              MSFT          PEP          SPX          XOM  \n",
       "count  1000.000000  1000.000000  1000.000000  1000.000000  \n",
       "mean     24.947840    59.607930  1153.729090    71.513700  \n",
       "std       3.746426     6.531849   183.562134     8.131698  \n",
       "min      14.330000    42.460000   676.530000    54.850000  \n",
       "25%      23.570000    56.535000  1048.495000    65.065000  \n",
       "50%      25.375000    61.720000  1165.770000    70.905000  \n",
       "75%      27.250000    63.785000  1306.157500    79.222500  \n",
       "max      34.070000    71.250000  1549.380000    87.480000  "
      ]
     },
     "execution_count": 11,
     "metadata": {},
     "output_type": "execute_result"
    }
   ],
   "source": [
    "data.describe()"
   ]
  },
  {
   "cell_type": "code",
   "execution_count": 12,
   "metadata": {},
   "outputs": [],
   "source": [
    "series1 =  data.IBM[10:20]\n",
    "series2 = data.IBM[5:15]"
   ]
  },
  {
   "cell_type": "code",
   "execution_count": 13,
   "metadata": {},
   "outputs": [
    {
     "name": "stdout",
     "output_type": "stream",
     "text": [
      "2007-11-12    94.70\n",
      "2007-11-13    98.27\n",
      "2007-11-14    96.56\n",
      "2007-11-15    96.71\n",
      "2007-11-16    97.82\n",
      "Name: IBM, dtype: float64\n"
     ]
    }
   ],
   "source": [
    "print(series1.head())"
   ]
  },
  {
   "cell_type": "code",
   "execution_count": 14,
   "metadata": {},
   "outputs": [
    {
     "name": "stdout",
     "output_type": "stream",
     "text": [
      "2007-11-05    105.48\n",
      "2007-11-06    105.27\n",
      "2007-11-07    103.69\n",
      "2007-11-08     99.05\n",
      "2007-11-09     93.58\n",
      "Name: IBM, dtype: float64\n"
     ]
    }
   ],
   "source": [
    "print(series2.head())"
   ]
  },
  {
   "cell_type": "code",
   "execution_count": 15,
   "metadata": {},
   "outputs": [
    {
     "data": {
      "text/plain": [
       "count    10.000000\n",
       "mean     96.376000\n",
       "std       1.176466\n",
       "min      94.700000\n",
       "25%      95.420000\n",
       "50%      96.550000\n",
       "75%      97.025000\n",
       "max      98.270000\n",
       "Name: IBM, dtype: float64"
      ]
     },
     "execution_count": 15,
     "metadata": {},
     "output_type": "execute_result"
    }
   ],
   "source": [
    "series1.describe()"
   ]
  },
  {
   "cell_type": "code",
   "execution_count": 16,
   "metadata": {},
   "outputs": [
    {
     "name": "stdout",
     "output_type": "stream",
     "text": [
      "2007-11-05       NaN\n",
      "2007-11-06       NaN\n",
      "2007-11-07       NaN\n",
      "2007-11-08       NaN\n",
      "2007-11-09       NaN\n",
      "2007-11-12    189.40\n",
      "2007-11-13    196.54\n",
      "2007-11-14    193.12\n",
      "2007-11-15    193.42\n",
      "2007-11-16    195.64\n",
      "2007-11-19       NaN\n",
      "2007-11-20       NaN\n",
      "2007-11-21       NaN\n",
      "2007-11-23       NaN\n",
      "2007-11-26       NaN\n",
      "Name: IBM, dtype: float64\n"
     ]
    }
   ],
   "source": [
    "print(series1 + series2)"
   ]
  },
  {
   "cell_type": "code",
   "execution_count": 17,
   "metadata": {},
   "outputs": [
    {
     "data": {
      "text/plain": [
       "2007-11-12    189.40\n",
       "2007-11-13    196.54\n",
       "2007-11-14    193.12\n",
       "2007-11-15    193.42\n",
       "2007-11-16    195.64\n",
       "Name: IBM, dtype: float64"
      ]
     },
     "execution_count": 17,
     "metadata": {},
     "output_type": "execute_result"
    }
   ],
   "source": [
    "(series1+series2).dropna()"
   ]
  },
  {
   "cell_type": "code",
   "execution_count": 18,
   "metadata": {},
   "outputs": [
    {
     "name": "stdout",
     "output_type": "stream",
     "text": [
      "2007-11-05      NaN          2007-11-05    105.48     \n",
      "2007-11-06      NaN          2007-11-06    105.27     \n",
      "2007-11-07      NaN          2007-11-07    103.69     \n",
      "2007-11-08      NaN          2007-11-08     99.05     \n",
      "2007-11-09      NaN          2007-11-09     93.58     \n",
      "2007-11-12    94.70          2007-11-12     94.70     \n",
      "2007-11-13    98.27          2007-11-13     98.27     \n",
      "2007-11-14    96.56          2007-11-14     96.56     \n",
      "2007-11-15    96.71          2007-11-15     96.71     \n",
      "2007-11-16    97.82          2007-11-16     97.82     \n",
      "2007-11-19    95.42          2007-11-19       NaN     \n",
      "2007-11-20    96.54          2007-11-20       NaN     \n",
      "2007-11-21    95.42          2007-11-21       NaN     \n",
      "2007-11-23    97.13          2007-11-23       NaN     \n",
      "2007-11-26    95.19          2007-11-26       NaN     \n",
      "Name: IBM, dtype: float64    Name: IBM, dtype: float64\n"
     ]
    }
   ],
   "source": [
    "a, b = series1.align(series2, join = 'outer')\n",
    "side_by_side(a, b)"
   ]
  },
  {
   "cell_type": "code",
   "execution_count": 19,
   "metadata": {},
   "outputs": [
    {
     "name": "stdout",
     "output_type": "stream",
     "text": [
      "2007-11-12    94.70          2007-11-12    94.70      \n",
      "2007-11-13    98.27          2007-11-13    98.27      \n",
      "2007-11-14    96.56          2007-11-14    96.56      \n",
      "2007-11-15    96.71          2007-11-15    96.71      \n",
      "2007-11-16    97.82          2007-11-16    97.82      \n",
      "Name: IBM, dtype: float64    Name: IBM, dtype: float64\n"
     ]
    }
   ],
   "source": [
    "a, b = series1.align(series2, join = 'inner')\n",
    "side_by_side(a, b)"
   ]
  },
  {
   "cell_type": "code",
   "execution_count": 21,
   "metadata": {},
   "outputs": [
    {
     "name": "stdout",
     "output_type": "stream",
     "text": [
      "2007-11-12    94.70          2007-11-12    94.70      \n",
      "2007-11-13    98.27          2007-11-13    98.27      \n",
      "2007-11-14    96.56          2007-11-14    96.56      \n",
      "2007-11-15    96.71          2007-11-15    96.71      \n",
      "2007-11-16    97.82          2007-11-16    97.82      \n",
      "2007-11-19    95.42          2007-11-19      NaN      \n",
      "2007-11-20    96.54          2007-11-20      NaN      \n",
      "2007-11-21    95.42          2007-11-21      NaN      \n",
      "2007-11-23    97.13          2007-11-23      NaN      \n",
      "2007-11-26    95.19          2007-11-26      NaN      \n",
      "Name: IBM, dtype: float64    Name: IBM, dtype: float64\n"
     ]
    }
   ],
   "source": [
    "a, b = series1.align(series2, join = 'left')\n",
    "side_by_side(a, b)"
   ]
  },
  {
   "cell_type": "code",
   "execution_count": 22,
   "metadata": {},
   "outputs": [
    {
     "name": "stdout",
     "output_type": "stream",
     "text": [
      "2007-11-05      NaN          2007-11-05    105.48     \n",
      "2007-11-06      NaN          2007-11-06    105.27     \n",
      "2007-11-07      NaN          2007-11-07    103.69     \n",
      "2007-11-08      NaN          2007-11-08     99.05     \n",
      "2007-11-09      NaN          2007-11-09     93.58     \n",
      "2007-11-12    94.70          2007-11-12     94.70     \n",
      "2007-11-13    98.27          2007-11-13     98.27     \n",
      "2007-11-14    96.56          2007-11-14     96.56     \n",
      "2007-11-15    96.71          2007-11-15     96.71     \n",
      "2007-11-16    97.82          2007-11-16     97.82     \n",
      "Name: IBM, dtype: float64    Name: IBM, dtype: float64\n"
     ]
    }
   ],
   "source": [
    "a, b = series1.align(series2, join = 'right')\n",
    "side_by_side(a, b)"
   ]
  },
  {
   "cell_type": "code",
   "execution_count": 24,
   "metadata": {},
   "outputs": [
    {
     "name": "stdout",
     "output_type": "stream",
     "text": [
      "2007-11-05     0.00          2007-11-05    105.48     \n",
      "2007-11-06     0.00          2007-11-06    105.27     \n",
      "2007-11-07     0.00          2007-11-07    103.69     \n",
      "2007-11-08     0.00          2007-11-08     99.05     \n",
      "2007-11-09     0.00          2007-11-09     93.58     \n",
      "2007-11-12    94.70          2007-11-12     94.70     \n",
      "2007-11-13    98.27          2007-11-13     98.27     \n",
      "2007-11-14    96.56          2007-11-14     96.56     \n",
      "2007-11-15    96.71          2007-11-15     96.71     \n",
      "2007-11-16    97.82          2007-11-16     97.82     \n",
      "Name: IBM, dtype: float64    Name: IBM, dtype: float64\n"
     ]
    }
   ],
   "source": [
    "a, b = series1.align(series2, join = 'right', fill_value=0)\n",
    "side_by_side(a, b)"
   ]
  },
  {
   "cell_type": "code",
   "execution_count": null,
   "metadata": {},
   "outputs": [],
   "source": []
  },
  {
   "cell_type": "code",
   "execution_count": null,
   "metadata": {},
   "outputs": [],
   "source": []
  },
  {
   "cell_type": "code",
   "execution_count": null,
   "metadata": {},
   "outputs": [],
   "source": []
  },
  {
   "cell_type": "code",
   "execution_count": null,
   "metadata": {},
   "outputs": [],
   "source": []
  }
 ],
 "metadata": {
  "kernelspec": {
   "display_name": "Python 3",
   "language": "python",
   "name": "python3"
  },
  "language_info": {
   "codemirror_mode": {
    "name": "ipython",
    "version": 3
   },
   "file_extension": ".py",
   "mimetype": "text/x-python",
   "name": "python",
   "nbconvert_exporter": "python",
   "pygments_lexer": "ipython3",
   "version": "3.7.4"
  }
 },
 "nbformat": 4,
 "nbformat_minor": 2
}

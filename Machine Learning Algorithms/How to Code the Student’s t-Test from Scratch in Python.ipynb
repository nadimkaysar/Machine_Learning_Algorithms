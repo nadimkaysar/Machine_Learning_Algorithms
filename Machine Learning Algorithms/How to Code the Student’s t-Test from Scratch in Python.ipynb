{
 "cells": [
  {
   "cell_type": "markdown",
   "metadata": {},
   "source": [
    "### How to Code the Student’s t-Test from Scratch in Python\n",
    "``` \n",
    "Perhaps one of the most widely used statistical hypothesis tests is the Student’s t test.\n",
    "Because you may use this test yourself someday, it is important to have a deep understanding of how the test works. As a developer, this understanding is best achieved by implementing the hypothesis test yourself from scratch.\n",
    "\n",
    "In this tutorial, you will discover how to implement the Student’s t-test statistical hypothesis test from scratch in Python.\n",
    "\n",
    "After completing this tutorial, you will know:\n",
    "\n",
    "The Student’s t-test will comment on whether it is likely to observe two samples given that the samples were drawn from the same population.\n",
    "How to implement the Student’s t-test from scratch for two independent samples.\n",
    "How to implement the paired Student’s t-test from scratch for two dependent samples.\n",
    "\n",
    "```"
   ]
  },
  {
   "cell_type": "markdown",
   "metadata": {},
   "source": [
    "### Student’s t-Test\n",
    "```\n",
    "The Student’s t-Test is a statistical hypothesis test for testing whether two samples are expected to have been drawn from the same population.\n",
    "\n",
    "It is named for the pseudonym “Student” used by William Gosset, who developed the test.\n",
    "\n",
    "The test works by checking the means from two samples to see if they are significantly different from each other. It does this by calculating the standard error in the difference between means, which can be interpreted to see how likely the difference is, if the two samples have the same mean (the null hypothesis).\n",
    "\n",
    "The t statistic calculated by the test can be interpreted by comparing it to critical values from the t-distribution. The critical value can be calculated using the degrees of freedom and a significance level with the percent point function (PPF).\n",
    "\n",
    "We can interpret the statistic value in a two-tailed test, meaning that if we reject the null hypothesis, it could be because the first mean is smaller or greater than the second mean. To do this, we can calculate the absolute value of the test statistic and compare it to the positive (right tailed) critical value, as follows:\n",
    "\n",
    "If abs(t-statistic) <= critical value: Accept null hypothesis that the means are equal.\n",
    "If abs(t-statistic) > critical value: Reject the null hypothesis that the means are equal.\n",
    "We can also retrieve the cumulative probability of observing the absolute value of the t-statistic using the cumulative distribution function (CDF) of the t-distribution in order to calculate a p-value. The p-value can then be compared to a chosen significance level (alpha) such as 0.05 to determine if the null hypothesis can be rejected:\n",
    "\n",
    "If p > alpha: Accept null hypothesis that the means are equal.\n",
    "If p <= alpha: Reject null hypothesis that the means are equal.\n",
    "In working with the means of the samples, the test assumes that both samples were drawn from a Gaussian distribution. The test also assumes that the samples have the same variance, and the same size, although there are corrections to the test if these assumptions do not hold. For example, see Welch’s t-test.\n",
    "\n",
    "There are two main versions of Student’s t-test:\n",
    "\n",
    "Independent Samples. The case where the two samples are unrelated.\n",
    "Dependent Samples. The case where the samples are related, such as repeated measures on the same population. Also called a paired test.\n",
    "Both the independent and the dependent Student’s t-tests are available in Python via the ttest_ind() and ttest_rel() SciPy functions respectively.\n",
    "\n",
    "Note: I recommend using these SciPy functions to calculate the Student’s t-test for your applications, if they are suitable. The library implementations will be faster and less prone to bugs. I would only recommend implementing the test yourself for learning purposes or in the case where you require a modified version of the test.\n",
    "\n",
    "We will use the SciPy functions to confirm the results from our own version of the tests.\n",
    "\n",
    "Note, for reference, all calculations presented in this tutorial are taken directly from Chapter 9 “t Tests” in “Statistics in Plain English“, Third Edition, 2010. I mention this because you may see the equations with different forms, depending on the reference text that you use.\n",
    "```"
   ]
  },
  {
   "cell_type": "markdown",
   "metadata": {},
   "source": [
    "### Student’s t-Test for Independent Samples\n",
    "\n",
    "```\n",
    "We’ll start with the most common form of the Student’s t-test: the case where we are comparing the means of two independent samples.\n",
    "\n",
    "Calculation\n",
    "The calculation of the t-statistic for two independent samples is as follows:\n",
    "\n",
    "t = observed difference between sample means / standard error of the difference between the means\n",
    "or\n",
    "\n",
    "t = (mean(X1) - mean(X2)) / sed\n",
    "Where X1 and X2 are the first and second data samples and sed is the standard error of the difference between the means.\n",
    "\n",
    "The standard error of the difference between the means can be calculated as follows:\n",
    "\n",
    "sed = sqrt(se1^2 + se2^2)\n",
    "Where se1 and se2 are the standard errors for the first and second datasets.\n",
    "\n",
    "The standard error of a sample can be calculated as:\n",
    "se = std / sqrt(n)\n",
    "Where se is the standard error of the sample, std is the sample standard deviation, and n is the number of observations in the sample.\n",
    "\n",
    "These calculations make the following assumptions:\n",
    "\n",
    "The samples are drawn from a Gaussian distribution.\n",
    "The size of each sample is approximately equal.\n",
    "The samples have the same variance.\n",
    "\n",
    "for more details please visit : \n",
    "``` \n",
    "https://machinelearningmastery.com/how-to-code-the-students-t-test-from-scratch-in-python/"
   ]
  },
  {
   "cell_type": "code",
   "execution_count": 1,
   "metadata": {},
   "outputs": [],
   "source": [
    "# The Calculation of the t-statistic for two independent samples is as follow as\n",
    "#t = observe_difference_between_sample_means/standard_error_of_the_difference_between_the_means\n",
    "#or\n",
    "#t = (mean(x1) - mean(x2))/sed\n",
    "# where x1 and x2 are first and second data samples and sed is the standard error of the difference between the means"
   ]
  },
  {
   "cell_type": "code",
   "execution_count": 2,
   "metadata": {},
   "outputs": [],
   "source": [
    "#The standard error of the difference between the means can be calculated as follows:\n",
    "# sed = sqrt(se1**2 + se2**2)\n",
    "#se  = std/sqrt(n)"
   ]
  },
  {
   "cell_type": "code",
   "execution_count": 3,
   "metadata": {},
   "outputs": [],
   "source": [
    "# the Calculations make the following assumptions:\n",
    "#    1. The sample are drawn from a Gaussian distribution.\n",
    "#    2. The size of each sample is approximately equal\n",
    "#    3. The sample have the same variance"
   ]
  },
  {
   "cell_type": "code",
   "execution_count": 4,
   "metadata": {},
   "outputs": [
    {
     "name": "stdout",
     "output_type": "stream",
     "text": [
      "t_statistic=-2.262, degrees_of_freedom=198.000, critical_value=1.653, p_value=0.025\n",
      "For t-test  via critical_value Reject null hypothesis that the means are equal.\n",
      "For t-test  via p_value Reject null hypothesis that the means are equal.\n"
     ]
    }
   ],
   "source": [
    "from math import sqrt\n",
    "from numpy.random import seed, randn\n",
    "from numpy import mean\n",
    "from scipy.stats import sem\n",
    "from scipy.stats import t\n",
    "\n",
    "def independent_ttest(data1, data2, alpha):\n",
    "    # Claculate the means\n",
    "    mean1, mean2 = mean(data1), mean(data2)\n",
    "    # Calculate the Standard errors\n",
    "    standard_error1, standard_error2 = sem(data1), sem(data2)\n",
    "    #standard errors on difference between samples\n",
    "    standard_error_difference = sqrt(standard_error1**2 + standard_error2**2)\n",
    "    #Calculate the t-statistic\n",
    "    t_statistic = (mean1-mean2)/standard_error_difference\n",
    "    # Degrees of freedom\n",
    "    degrees_of_freedom = len(data1)+len(data2) - 2\n",
    "    #calculate the critical value\n",
    "    critical_value = t.ppf(1.0 - alpha, degrees_of_freedom)\n",
    "    #Calculate the p_value\n",
    "    p_value = (1.0 - t.cdf(abs(t_statistic), degrees_of_freedom))*2.0\n",
    "    # return everything\n",
    "    return t_statistic, degrees_of_freedom, critical_value, p_value\n",
    "\n",
    "\n",
    "#seed the random number generator\n",
    "seed(1)\n",
    "\n",
    "# generate two dependent samples\n",
    "data1 = 5*randn(100) + 50\n",
    "data2 = 5*randn(100) + 51\n",
    "\n",
    "#calculate the t-test\n",
    "alpha = 0.05\n",
    "t_statistic, degrees_of_freedom, critical_value, p_value = independent_ttest(data1, data2, alpha)\n",
    "\n",
    "print('t_statistic=%.3f, degrees_of_freedom=%.3f, critical_value=%.3f, p_value=%.3f'%(t_statistic,degrees_of_freedom, critical_value,p_value))\n",
    "\n",
    "# interpret via critical value\n",
    "if abs(t_statistic) <= critical_value:\n",
    "    print('For t-test via critical_value Accept null hypothesis that the means are equal.')\n",
    "else:\n",
    "    print('For t-test  via critical_value Reject null hypothesis that the means are equal.')\n",
    "    \n",
    "#interpret via p_value\n",
    "\n",
    "if p_value> alpha:\n",
    "    print('For t-test  via p_value Accepts null hypothesis that the means are equal.')\n",
    "else:\n",
    "    print('For t-test  via p_value Reject null hypothesis that the means are equal.')"
   ]
  },
  {
   "cell_type": "code",
   "execution_count": 5,
   "metadata": {},
   "outputs": [
    {
     "name": "stdout",
     "output_type": "stream",
     "text": [
      "t_stat =-2.372, df=99.000, cv=1.660, p=0.020\n",
      "Reject null hyphothesis that means are equal\n",
      "Reject null hyphothesis that means are equal\n"
     ]
    }
   ],
   "source": [
    "def dependent_ttest(data1, data2, alpha):\n",
    "    mean1, mean2 = mean(data1), mean(data2)\n",
    "    \n",
    "    n = len(data1)\n",
    "    #sum squared difference between observations\n",
    "    d1 = sum([(data1[i] - data2[i])**2 for i in range(n)])\n",
    "    #SUM difference between observation\n",
    "    d2 = sum([data1[i] - data2[i] for i in range(n)])\n",
    "    # standard deviations of the difference between the means\n",
    "   \n",
    "    sd = sqrt((d1 - (d2**2/n))/(n-1))\n",
    "    sed = sd/sqrt(n)\n",
    "    #calculate the t-statistic\n",
    "    t_stat = (mean1 - mean2)/sed\n",
    "    #calculate the degree of freedom\n",
    "    df = n-1\n",
    "    #calculate the critical value\n",
    "    cv = t.ppf(1.0 - alpha, df)\n",
    "    # calculate the p_value\n",
    "    p = (1.0 - t.cdf(abs(t_stat), df))*2.0\n",
    "    #return everythings\n",
    "    return t_stat, df, cv, p\n",
    "\n",
    "\n",
    "seed(1)\n",
    "data1 = 5*randn(100) + 50\n",
    "data2 = 5*randn(100) + 51\n",
    "alpha = 0.05\n",
    "\n",
    "t_stat, df, cv, p = dependent_ttest(data1, data2, alpha)\n",
    "\n",
    "print('t_stat =%.3f, df=%.3f, cv=%.3f, p=%.3f'%(t_stat, df, cv, p))\n",
    "\n",
    "if abs(t_stat) <= cv:\n",
    "    print('Accept null hyphothesis that means are equal')\n",
    "else:\n",
    "    print('Reject null hyphothesis that means are equal')\n",
    "    \n",
    "    \n",
    "if p > alpha:\n",
    "    print('Accetps null hyphothesis that means are equal')\n",
    "    \n",
    "else:\n",
    "    print('Reject null hyphothesis that means are equal')"
   ]
  },
  {
   "cell_type": "code",
   "execution_count": 11,
   "metadata": {},
   "outputs": [],
   "source": [
    "from scipy.stats import ttest_rel, ttest_ind"
   ]
  },
  {
   "cell_type": "code",
   "execution_count": 7,
   "metadata": {},
   "outputs": [
    {
     "name": "stdout",
     "output_type": "stream",
     "text": [
      "Statistics = -2.372, p =0.020\n"
     ]
    }
   ],
   "source": [
    "seed(1)\n",
    "data1 = 5*randn(100)+50\n",
    "data2 = 5*randn(100)+51\n",
    "stat, p = ttest_rel(data1, data2)\n",
    "print('Statistics = %.3f, p =%.3f'%(stat, p))"
   ]
  },
  {
   "cell_type": "markdown",
   "metadata": {},
   "source": [
    "###  Function"
   ]
  },
  {
   "cell_type": "code",
   "execution_count": 10,
   "metadata": {},
   "outputs": [
    {
     "name": "stdout",
     "output_type": "stream",
     "text": [
      "I am learning Python function\n",
      "Still in func\n",
      "value of x= 4\n",
      "value of y= 2\n",
      "8\n"
     ]
    }
   ],
   "source": [
    "def func1():\n",
    "    print('I am learning Python function')\n",
    "    print('Still in func')\n",
    "    \n",
    "    \n",
    "func1()\n",
    "\n",
    "\n",
    "def square(x):\n",
    "    return x**2\n",
    "\n",
    "def multiply(x, y = 0):\n",
    "    print('value of x=', x)\n",
    "    print('value of y=', y)\n",
    "    return x*y\n",
    "\n",
    "print(multiply(y = 2, x = 4))"
   ]
  },
  {
   "cell_type": "code",
   "execution_count": 12,
   "metadata": {},
   "outputs": [
    {
     "name": "stdout",
     "output_type": "stream",
     "text": [
      "-1.154243603012057 0.2497915571478183\n"
     ]
    }
   ],
   "source": [
    "data1 = 5*randn(100) + 50\n",
    "data2 = 5 *randn(100) + 51\n",
    "stat, p = ttest_ind(data1, data2)\n",
    "print(stat, p)"
   ]
  },
  {
   "cell_type": "code",
   "execution_count": null,
   "metadata": {},
   "outputs": [],
   "source": []
  }
 ],
 "metadata": {
  "kernelspec": {
   "display_name": "Python 3",
   "language": "python",
   "name": "python3"
  },
  "language_info": {
   "codemirror_mode": {
    "name": "ipython",
    "version": 3
   },
   "file_extension": ".py",
   "mimetype": "text/x-python",
   "name": "python",
   "nbconvert_exporter": "python",
   "pygments_lexer": "ipython3",
   "version": "3.7.4"
  }
 },
 "nbformat": 4,
 "nbformat_minor": 2
}
